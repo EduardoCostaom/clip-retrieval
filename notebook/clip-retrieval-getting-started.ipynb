{
 "metadata": {
  "language_info": {
   "codemirror_mode": {
    "name": "ipython",
    "version": 3
   },
   "file_extension": ".py",
   "mimetype": "text/x-python",
   "name": "python",
   "nbconvert_exporter": "python",
   "pygments_lexer": "ipython3",
   "version": "3.8.11-final"
  },
  "orig_nbformat": 2,
  "kernelspec": {
   "name": "python381164bit3811c3444e7d34f94dda94ca19209458f565",
   "display_name": "Python 3.8.11 64-bit ('3.8.11')"
  }
 },
 "nbformat": 4,
 "nbformat_minor": 2,
 "cells": [
  {
   "cell_type": "code",
   "execution_count": null,
   "metadata": {},
   "outputs": [],
   "source": [
    "!pip install clip-retrieval img2dataset"
   ]
  },
  {
   "cell_type": "code",
   "execution_count": 1,
   "metadata": {},
   "outputs": [],
   "source": [
    "!echo 'https://placekitten.com/200/305' >> myimglist.txt\n",
    "!echo 'https://placekitten.com/200/304' >> myimglist.txt\n",
    "!echo 'https://placekitten.com/200/303' >> myimglist.txt"
   ]
  },
  {
   "cell_type": "code",
   "execution_count": 2,
   "metadata": {},
   "outputs": [
    {
     "output_type": "stream",
     "name": "stdout",
     "text": [
      "/bin/bash: img2dataset: command not found\n"
     ]
    }
   ],
   "source": [
    "!img2dataset --url_list=myimglist.txt --output_folder=image_folder --thread_count=64 --image_size=256"
   ]
  },
  {
   "cell_type": "code",
   "execution_count": null,
   "metadata": {},
   "outputs": [],
   "source": [
    "!clip-retrieval batch  --dataset_path image_folder --output_folder indice_folder"
   ]
  },
  {
   "cell_type": "code",
   "execution_count": null,
   "metadata": {},
   "outputs": [],
   "source": [
    "!ls -R indice_folder"
   ]
  },
  {
   "cell_type": "code",
   "execution_count": null,
   "metadata": {},
   "outputs": [],
   "source": [
    "!clip-retrieval filter --query \"cat\" --output_folder \"cat/\" --indice_folder \"indice_folder\""
   ]
  },
  {
   "cell_type": "code",
   "execution_count": null,
   "metadata": {},
   "outputs": [],
   "source": [
    "ls -R cat"
   ]
  },
  {
   "cell_type": "code",
   "execution_count": null,
   "metadata": {},
   "outputs": [],
   "source": [
    "from IPython.display import Image\n",
    "Image(filename='cat0/0.jpg') "
   ]
  }
 ]
}