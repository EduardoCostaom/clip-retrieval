{
  "nbformat": 4,
  "nbformat_minor": 0,
  "metadata": {
    "language_info": {
      "codemirror_mode": {
        "name": "ipython",
        "version": 3
      },
      "file_extension": ".py",
      "mimetype": "text/x-python",
      "name": "python",
      "nbconvert_exporter": "python",
      "pygments_lexer": "ipython3",
      "version": "3.8.11-final"
    },
    "orig_nbformat": 2,
    "kernelspec": {
      "name": "python381164bit3811c3444e7d34f94dda94ca19209458f565",
      "display_name": "Python 3.8.11 64-bit ('3.8.11')"
    },
    "colab": {
      "name": "clip-retrieval-getting-started.ipynb",
      "provenance": []
    }
  },
  "cells": [
    {
      "cell_type": "code",
      "metadata": {
        "id": "LIJwsAPIjvnX"
      },
      "source": [
        "!pip install clip-retrieval img2dataset"
      ],
      "execution_count": null,
      "outputs": []
    },
    {
      "cell_type": "code",
      "metadata": {
        "id": "SA89YmKtjvnX"
      },
      "source": [
        "!echo 'https://placekitten.com/200/305' >> myimglist.txt\n",
        "!echo 'https://placekitten.com/200/304' >> myimglist.txt\n",
        "!echo 'https://placekitten.com/200/303' >> myimglist.txt"
      ],
      "execution_count": 2,
      "outputs": []
    },
    {
      "cell_type": "code",
      "metadata": {
        "id": "BVZW6noqjvnY",
        "colab": {
          "base_uri": "https://localhost:8080/"
        },
        "outputId": "a94c46b3-0b79-4e11-ed43-b279c7228e59"
      },
      "source": [
        "!img2dataset --url_list=myimglist.txt --output_folder=image_folder --thread_count=64 --image_size=256"
      ],
      "execution_count": 3,
      "outputs": [
        {
          "output_type": "stream",
          "text": [
            "100% 1/1 [00:01<00:00,  1.22s/it]\n"
          ],
          "name": "stdout"
        }
      ]
    },
    {
      "cell_type": "code",
      "metadata": {
        "id": "MvNr8NJRjvnZ",
        "colab": {
          "base_uri": "https://localhost:8080/"
        },
        "outputId": "3e513e3f-a44e-4fe5-cda8-3e9d2f2a9198"
      },
      "source": [
        "!clip-retrieval batch  --dataset_path image_folder --output_folder indice_folder"
      ],
      "execution_count": 4,
      "outputs": [
        {
          "output_type": "stream",
          "text": [
            "100%|████████████████████████████████████████| 354M/354M [00:02<00:00, 139MiB/s]\n",
            "/usr/local/lib/python3.7/dist-packages/torch/utils/data/dataloader.py:481: UserWarning: This DataLoader will create 8 worker processes in total. Our suggested max number of worker in current system is 2, which is smaller than what this DataLoader is going to create. Please be aware that excessive worker creation might get DataLoader running slow or even freeze, lower the worker number to avoid potential slowness/freeze if necessary.\n",
            "  cpuset_checked))\n",
            "100% 1/1 [00:00<00:00,  1.03it/s]\n"
          ],
          "name": "stdout"
        }
      ]
    },
    {
      "cell_type": "code",
      "metadata": {
        "id": "aBcl0APqjvnZ",
        "outputId": "958708bd-4a57-4046-b668-e653d2978930",
        "colab": {
          "base_uri": "https://localhost:8080/"
        }
      },
      "source": [
        "!ls -R indice_folder"
      ],
      "execution_count": 5,
      "outputs": [
        {
          "output_type": "stream",
          "text": [
            "indice_folder:\n",
            "image.index  image_list  img_emb.npy\n"
          ],
          "name": "stdout"
        }
      ]
    },
    {
      "cell_type": "code",
      "metadata": {
        "id": "COVo6tHQjvnZ",
        "colab": {
          "base_uri": "https://localhost:8080/"
        },
        "outputId": "5788e9b0-4968-462e-aa4d-ae1a754660c9"
      },
      "source": [
        "!clip-retrieval filter --query \"cat\" --output_folder \"cat/\" --indice_folder \"indice_folder\""
      ],
      "execution_count": 11,
      "outputs": [
        {
          "output_type": "stream",
          "text": [
            "Found 100 items with query 'cat'\n",
            "The minimum distance is -340282346638528859811704183484516925440.00 and the maximum is 0.26\n",
            "You may want to use these numbers to increase your --num_results parameter. Or use the --threshold parameter.\n",
            "Copying the images in cat/\n"
          ],
          "name": "stdout"
        }
      ]
    },
    {
      "cell_type": "code",
      "metadata": {
        "id": "wmVuLCKmubsI",
        "outputId": "057c62c7-e9ca-4634-f1d3-77ff1d860768",
        "colab": {
          "base_uri": "https://localhost:8080/"
        }
      },
      "source": [
        "!ls"
      ],
      "execution_count": 12,
      "outputs": [
        {
          "output_type": "stream",
          "text": [
            "cat  image_folder  indice_folder  myimglist.txt  sample_data\n"
          ],
          "name": "stdout"
        }
      ]
    },
    {
      "cell_type": "code",
      "metadata": {
        "id": "KOdR2ybtjvna",
        "colab": {
          "base_uri": "https://localhost:8080/"
        },
        "outputId": "ae8965f0-d97d-4401-a536-ffd8508d6a46"
      },
      "source": [
        "ls -R cat"
      ],
      "execution_count": 13,
      "outputs": [
        {
          "output_type": "stream",
          "text": [
            "cat:\n",
            "000000000.jpg  000000001.jpg  000000002.jpg\n"
          ],
          "name": "stdout"
        }
      ]
    },
    {
      "cell_type": "code",
      "metadata": {
        "id": "GHtA2Jlajvna",
        "colab": {
          "base_uri": "https://localhost:8080/",
          "height": 273
        },
        "outputId": "4b28b39e-81ec-4e83-cb5b-49cafd1f5bf3"
      },
      "source": [
        "from IPython.display import Image\n",
        "Image(filename='cat/000000000.jpg') "
      ],
      "execution_count": 14,
      "outputs": [
        {
          "output_type": "execute_result",
          "data": {
            "image/jpeg": "[encoded data removed]",
            "text/plain": [
              "<IPython.core.display.Image object>"
            ]
          },
          "metadata": {},
          "execution_count": 14
        }
      ]
    }
  ]
}
