{
  "nbformat": 4,
  "nbformat_minor": 2,
  "metadata": {
    "language_info": {
      "codemirror_mode": {
        "name": "ipython",
        "version": 3
      },
      "file_extension": ".py",
      "mimetype": "text/x-python",
      "name": "python",
      "nbconvert_exporter": "python",
      "pygments_lexer": "ipython3",
      "version": "3.8.10"
    },
    "orig_nbformat": 2,
    "kernelspec": {
      "name": "python3",
      "display_name": "Python 3.8.10 64-bit ('.env': venv)"
    },
    "colab": {
      "name": "clip-retrieval-getting-started.ipynb",
      "provenance": []
    },
    "interpreter": {
      "hash": "843de08df30066b821f0437d83317f7e657c9d58c210bb967a72474dd7dcb832"
    }
  },
  "cells": [
    {
      "cell_type": "code",
      "execution_count": null,
      "source": [
        "!pip install clip-retrieval img2dataset"
      ],
      "outputs": [],
      "metadata": {
        "id": "LIJwsAPIjvnX"
      }
    },
    {
      "cell_type": "code",
      "execution_count": 12,
      "source": [
        "!echo 'https://placekitten.com/200/305' >> myimglist.txt\n",
        "!echo 'https://placekitten.com/200/304' >> myimglist.txt\n",
        "!echo 'https://placekitten.com/200/303' >> myimglist.txt"
      ],
      "outputs": [],
      "metadata": {
        "id": "SA89YmKtjvnX"
      }
    },
    {
      "cell_type": "code",
      "execution_count": 18,
      "source": [
        "!img2dataset --url_list=myimglist.txt --output_folder=image_folder --thread_count=64 --image_size=256"
      ],
      "outputs": [
        {
          "output_type": "stream",
          "name": "stdout",
          "text": [
            "Downloading file number 1 of 1 called myimglist.txt\n",
            "  0%|                                                     | 0/1 [00:00<?, ?it/s]success=1.00 failed download=0.00 failed resize=0.00\n",
            "100%|█████████████████████████████████████████████| 1/1 [00:00<00:00, 16.53it/s]\n"
          ]
        }
      ],
      "metadata": {
        "id": "BVZW6noqjvnY",
        "colab": {
          "base_uri": "https://localhost:8080/"
        },
        "outputId": "a94c46b3-0b79-4e11-ed43-b279c7228e59"
      }
    },
    {
      "cell_type": "code",
      "execution_count": 20,
      "source": [
        "!clip-retrieval inference  --input_dataset image_folder --output_folder embedding_folder"
      ],
      "outputs": [
        {
          "output_type": "stream",
          "name": "stdout",
          "text": [
            "256it [00:00, 470.60it/s]\n"
          ]
        }
      ],
      "metadata": {
        "id": "MvNr8NJRjvnZ",
        "colab": {
          "base_uri": "https://localhost:8080/"
        },
        "outputId": "3e513e3f-a44e-4fe5-cda8-3e9d2f2a9198"
      }
    },
    {
      "cell_type": "code",
      "execution_count": 21,
      "source": [
        "!ls -R embedding_folder"
      ],
      "outputs": [
        {
          "output_type": "stream",
          "name": "stdout",
          "text": [
            "embedding_folder:\n",
            "img_emb  metadata\n",
            "\n",
            "embedding_folder/img_emb:\n",
            "img_emb_0.npy\n",
            "\n",
            "embedding_folder/metadata:\n",
            "metadata_0.parquet\n"
          ]
        }
      ],
      "metadata": {
        "id": "aBcl0APqjvnZ",
        "outputId": "958708bd-4a57-4046-b668-e653d2978930",
        "colab": {
          "base_uri": "https://localhost:8080/"
        }
      }
    },
    {
      "cell_type": "code",
      "execution_count": 22,
      "source": [
        "!clip-retrieval index --embeddings_folder=embedding_folder --index_folder=index_folder"
      ],
      "outputs": [
        {
          "output_type": "stream",
          "name": "stdout",
          "text": [
            "Launching the whole pipeline 09/03/2021, 17:28:27\n",
            "\tCompute estimated construction time of the index 09/03/2021, 17:28:27\n",
            "\t\t-> Train: 16.7 minutes\n",
            "\t\t-> Add: 0.0 seconds\n",
            "\t\tTotal: 16.7 minutes\n",
            "\t>>> Finished \"Compute estimated construction time of the index\" in 0.0000 secs\n",
            "\tChecking that your have enough memory available to create the index 09/03/2021, 17:28:27\n",
            "\t>>> Finished \"Checking that your have enough memory available to create the index\" in 0.0002 secs\n",
            "\tSelecting most promising index types given data characteristics 09/03/2021, 17:28:27\n",
            "\t>>> Finished \"Selecting most promising index types given data characteristics\" in 0.0002 secs\n",
            "\tCreating the index 09/03/2021, 17:28:27\n",
            "\t\t-> Instanciate the index Flat 09/03/2021, 17:28:27\n",
            "\t\t>>> Finished \"-> Instanciate the index Flat\" in 0.0006 secs\n",
            "\t\t-> Extract training vectors 09/03/2021, 17:28:27\n",
            "100%|███████████████████████████████████████████| 1/1 [00:00<00:00, 5023.12it/s]\n",
            "\t\t>>> Finished \"-> Extract training vectors\" in 0.0011 secs\n",
            "\t\t-> Training the index with 6 vectors of dim 512 09/03/2021, 17:28:27\n",
            "\t\t>>> Finished \"-> Training the index with 6 vectors of dim 512\" in 0.0000 secs\n",
            "\t\t-> Adding the vectors to the index 09/03/2021, 17:28:27\n",
            "100%|███████████████████████████████████████████| 1/1 [00:00<00:00, 4433.73it/s]\n",
            "\t\t>>> Finished \"-> Adding the vectors to the index\" in 0.0004 secs\n",
            "\t>>> Finished \"Creating the index\" in 0.0023 secs\n",
            "\tComputing best hyperparameters 09/03/2021, 17:28:27\n",
            "\t>>> Finished \"Computing best hyperparameters\" in 0.0000 secs\n",
            "The best hyperparameters are: \n",
            "\tSaving the index on local disk 09/03/2021, 17:28:27\n",
            "\t>>> Finished \"Saving the index on local disk\" in 0.0001 secs\n",
            "\tCompute fast metrics 09/03/2021, 17:28:27\n",
            "2004\n",
            "\t>>> Finished \"Compute fast metrics\" in 0.0217 secs\n",
            "Recap:\n",
            "{'99p_search_speed_ms': 0.011021519312635064,\n",
            " 'avg_search_speed_ms': 0.00970839685899858,\n",
            " 'compression ratio': 0.9963512527365604,\n",
            " 'nb vectors': 6,\n",
            " 'reconstruction error %': 0.0,\n",
            " 'size in bytes': 12333,\n",
            " 'vectors dimension': 512}\n",
            ">>> Finished \"Launching the whole pipeline\" in 0.0272 secs\n"
          ]
        }
      ],
      "metadata": {}
    },
    {
      "cell_type": "code",
      "execution_count": 24,
      "source": [
        "!clip-retrieval filter --query \"cat\" --output_folder \"cat/\" --indice_folder \"index_folder\""
      ],
      "outputs": [
        {
          "output_type": "stream",
          "name": "stdout",
          "text": [
            "Found 100 items with query 'cat'\n",
            "The minimum distance is -340282346638528859811704183484516925440.00 and the maximum is 0.26\n",
            "You may want to use these numbers to increase your --num_results parameter. Or use the --threshold parameter.\n",
            "Copying the images in cat/\n"
          ]
        }
      ],
      "metadata": {
        "id": "COVo6tHQjvnZ",
        "colab": {
          "base_uri": "https://localhost:8080/"
        },
        "outputId": "5788e9b0-4968-462e-aa4d-ae1a754660c9"
      }
    },
    {
      "cell_type": "code",
      "execution_count": 25,
      "source": [
        "!ls"
      ],
      "outputs": [
        {
          "output_type": "stream",
          "name": "stdout",
          "text": [
            "cat\t\t\t\t      embedding_folder\tindex_folder\n",
            "clip-retrieval-getting-started.ipynb  image_folder\tmyimglist.txt\n"
          ]
        }
      ],
      "metadata": {
        "id": "wmVuLCKmubsI",
        "outputId": "057c62c7-e9ca-4634-f1d3-77ff1d860768",
        "colab": {
          "base_uri": "https://localhost:8080/"
        }
      }
    },
    {
      "cell_type": "code",
      "execution_count": 26,
      "source": [
        "ls -R cat"
      ],
      "outputs": [
        {
          "output_type": "stream",
          "name": "stdout",
          "text": [
            "cat:\n",
            "0000.jpg  0001.jpg  0002.jpg  0003.jpg  0004.jpg  0005.jpg\n"
          ]
        }
      ],
      "metadata": {
        "id": "KOdR2ybtjvna",
        "colab": {
          "base_uri": "https://localhost:8080/"
        },
        "outputId": "ae8965f0-d97d-4401-a536-ffd8508d6a46"
      }
    },
    {
      "cell_type": "code",
      "execution_count": 28,
      "source": [
        "from IPython.display import Image\n",
        "Image(filename='cat/000000000.jpg') "
      ],
      "outputs": [
        {
          "output_type": "execute_result",
          "data": {
            "image/jpeg": "[encoded data removed]",
            "text/plain": [
              "<IPython.core.display.Image object>"
            ]
          },
          "metadata": {},
          "execution_count": 28
        }
      ],
      "metadata": {
        "id": "GHtA2Jlajvna",
        "colab": {
          "base_uri": "https://localhost:8080/",
          "height": 273
        },
        "outputId": "4b28b39e-81ec-4e83-cb5b-49cafd1f5bf3"
      }
    }
  ]
}
